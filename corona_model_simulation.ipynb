{
 "cells": [
  {
   "cell_type": "markdown",
   "metadata": {},
   "source": [
    "## Model simuleren: populatiemodel"
   ]
  },
  {
   "cell_type": "markdown",
   "metadata": {},
   "source": [
    "$$\\frac{dS}{dt}= -\\beta SI$$\n",
    "$$\\frac{dI}{dt}= \\beta SI - \\gamma I$$\n",
    "$$\\frac{dR}{dt}= \\gamma I$$"
   ]
  },
  {
   "cell_type": "code",
   "execution_count": 1,
   "metadata": {
    "ExecuteTime": {
     "end_time": "2020-03-17T09:53:01.262189Z",
     "start_time": "2020-03-17T09:53:01.009865Z"
    }
   },
   "outputs": [],
   "source": [
    "%matplotlib inline"
   ]
  },
  {
   "cell_type": "code",
   "execution_count": 2,
   "metadata": {
    "ExecuteTime": {
     "end_time": "2020-03-17T09:53:01.796875Z",
     "start_time": "2020-03-17T09:53:01.263188Z"
    }
   },
   "outputs": [],
   "source": [
    "# Importeren van functionaliteiten\n",
    "import matplotlib.pyplot as plt\n",
    "#import seaborn as sns\n",
    "import numpy as np\n",
    "import scipy as sp\n",
    "import pandas as pd\n",
    "from IPython.display import Image\n",
    "from ipywidgets import interact, fixed, ToggleButtons, IntSlider, FloatSlider, interactive\n",
    "%load_ext autoreload\n",
    "%autoreload 1\n",
    "%aimport corona\n",
    "#from populatie import populatie_model   # Importeren van de populatie functies"
   ]
  },
  {
   "cell_type": "raw",
   "metadata": {},
   "source": [
    "#### Praktische info\n",
    "Functiedefinitie:\n",
    "\n",
    "    corona.populatie_model(tijdstappen,  S_0, I_0, R_0, beta, gamma)\n",
    "\n",
    "Bij de standaard situatie voor onze case werden volgende waarden voor initiele condities, parameters en inputs gebruikt:\n",
    "\n",
    "    corona.populatie_model(np.arange(0, 22, 0.1), 6000, 0, 0, 0.00002856, 0.29819303) "
   ]
  },
  {
   "cell_type": "markdown",
   "metadata": {},
   "source": [
    "## Model simuleren"
   ]
  },
  {
   "cell_type": "code",
   "execution_count": 3,
   "metadata": {
    "ExecuteTime": {
     "end_time": "2020-03-17T09:53:02.152665Z",
     "start_time": "2020-03-17T09:53:01.993949Z"
    }
   },
   "outputs": [
    {
     "data": {
      "image/png": "[encoded data removed]",
      "text/plain": [
       "<Figure size 432x288 with 1 Axes>"
      ]
     },
     "metadata": {
      "needs_background": "light"
     },
     "output_type": "display_data"
    }
   ],
   "source": [
    "model = corona.populatie_model(np.arange(0., 90, 0.1), S_0=6000, I_0=1, R_0=0, beta=0.0002856, gamma=0.2981930)"
   ]
  },
  {
   "cell_type": "markdown",
   "metadata": {},
   "source": [
    "## Impact parameters (deel 1)"
   ]
  },
  {
   "cell_type": "code",
   "execution_count": 4,
   "metadata": {
    "ExecuteTime": {
     "end_time": "2020-03-17T09:53:02.854849Z",
     "start_time": "2020-03-17T09:53:02.708643Z"
    }
   },
   "outputs": [
    {
     "data": {
      "application/vnd.jupyter.widget-view+json": {
       "model_id": "7aa12c3636d8466da5de40552eef3f11",
       "version_major": 2,
       "version_minor": 0
      },
      "text/plain": [
       "interactive(children=(FloatSlider(value=0.0001, description='beta', max=0.0005, min=1e-05, readout_format='.1e…"
      ]
     },
     "metadata": {},
     "output_type": "display_data"
    }
   ],
   "source": [
    "interact(corona.populatie_model, tijdstappen=fixed(np.arange(0., 90, 0.1)), S_0=fixed(6000), \n",
    "         I_0=fixed(1), R_0=fixed(0),\n",
    "         beta=FloatSlider(value=1e-4, min=1e-5, max=5e-4, step=1e-5,\n",
    "                          continuous_update=True, readout_format='.1e'),\n",
    "         gamma=FloatSlider(value=0.2, min=0, max=0.4, step=0.01,\n",
    "                          continuous_update=True, readout_format='.1e'),\n",
    "         returnDataFrame=fixed(False));"
   ]
  },
  {
   "cell_type": "markdown",
   "metadata": {},
   "source": [
    "## Impact parameters en maatregelen"
   ]
  },
  {
   "cell_type": "markdown",
   "metadata": {},
   "source": [
    "De dag dat er maatregelen worden genomen heeft een grote invloed op de eerste piek van de infecties. Wanneer er maatregelen worden genomen, kan de vroegtijdige ontspanning van deze maatregelen het verschijnen van een tweede piek van infecties uitlokken. De mate van opsluiting bepaalt ook de snelheid waarmee de infecties toenemen."
   ]
  },
  {
   "cell_type": "code",
   "execution_count": 5,
   "metadata": {
    "ExecuteTime": {
     "end_time": "2020-03-17T09:53:02.854849Z",
     "start_time": "2020-03-17T09:53:02.708643Z"
    }
   },
   "outputs": [
    {
     "data": {
      "application/vnd.jupyter.widget-view+json": {
       "model_id": "7265a52bc5be44d69ee69bceb7bf014e",
       "version_major": 2,
       "version_minor": 0
      },
      "text/plain": [
       "interactive(children=(FloatSlider(value=4.9, description='start', max=4.9, min=0.1, readout_format='2.1f'), Fl…"
      ]
     },
     "metadata": {},
     "output_type": "display_data"
    },
    {
     "data": {
      "text/plain": [
       "<function __main__.stapmodel(start, relax, beta_unconf, beta_quaran, gamma)>"
      ]
     },
     "execution_count": 5,
     "metadata": {},
     "output_type": "execute_result"
    }
   ],
   "source": [
    "def stapmodel(start, relax, beta_unconf, beta_quaran, gamma):\n",
    "    tmin = 0.01\n",
    "    tmax = 50.\n",
    "    dt = 0.1\n",
    "    fase1 = np.arange(tmin, start, dt)\n",
    "    fase2 = np.arange(start, relax, dt)\n",
    "    fase3 = np.arange(relax, tmax, dt)\n",
    "    model1 = corona.populatie_model(fase1, S_0=6000, I_0=1, R_0=0, beta=beta_unconf, gamma=gamma, plotFig=False)\n",
    "    model2 = corona.populatie_model(fase2, S_0=model1.S.iloc[-1], I_0=model1.I.iloc[-1], R_0=model1.R.iloc[-1], beta=beta_quaran, gamma=gamma, plotFig=False)\n",
    "    model3 = corona.populatie_model(fase3, S_0=model2.S.iloc[-1], I_0=model2.I.iloc[-1], R_0=model2.R.iloc[-1], beta=beta_unconf, gamma=gamma, plotFig=False)\n",
    "    model = pd.concat([model1, model2, model3])\n",
    "    tijd = model.index\n",
    "    model.plot()\n",
    "    plt.plot(tijd, 2e3*np.ones(tijd.size),'r--')\n",
    "\n",
    "interact(stapmodel, \n",
    "         start=FloatSlider(value=4.9, min=0.1, max=4.9, step=0.1, continuous_update=True, readout_format='2.1f'), \n",
    "         relax=FloatSlider(value=50., min=5., max=50., step=1., continuous_update=True, readout_format='2.0f'),\n",
    "         beta_unconf=FloatSlider(value=5e-4, min=1e-4, max=1e-3, step=1e-5, continuous_update=True, readout_format='.1e'),\n",
    "         beta_quaran=FloatSlider(value=1e-4, min=1e-5, max=5e-4, step=1e-5, continuous_update=True, readout_format='.1e'),\n",
    "         gamma=FloatSlider(value=0.2, min=0, max=0.4, step=0.01, continuous_update=True, readout_format='.2f'))"
   ]
  },
  {
   "cell_type": "markdown",
   "metadata": {},
   "source": [
    "## sensitivity"
   ]
  },
  {
   "cell_type": "code",
   "execution_count": 6,
   "metadata": {
    "ExecuteTime": {
     "end_time": "2020-03-17T07:24:36.194755Z",
     "start_time": "2020-03-17T07:24:36.004272Z"
    }
   },
   "outputs": [
    {
     "data": {
      "application/vnd.jupyter.widget-view+json": {
       "model_id": "a649d6fa8d384786a4e116dd7772d37b",
       "version_major": 2,
       "version_minor": 0
      },
      "text/plain": [
       "interactive(children=(ToggleButtons(description='parameternaam', options=('beta', 'gamma'), value='beta'), Int…"
      ]
     },
     "metadata": {},
     "output_type": "display_data"
    },
    {
     "data": {
      "text/plain": [
       "<function corona.sensitiviteit(tijdstappen, init, varnames, f, parameternaam, log_perturbatie=-4, soort='absoluut', **kwargs)>"
      ]
     },
     "execution_count": 6,
     "metadata": {},
     "output_type": "execute_result"
    }
   ],
   "source": [
    "interact(corona.sensitiviteit,\n",
    "    tijdstappen=fixed(np.arange(0., 90, 0.1)), # tijdstappen\n",
    "    init=fixed([6000, 1, 0]), # initiële condities\n",
    "    varnames=fixed(['S','I', 'R']), # namen variabelen\n",
    "    f=fixed(corona.model_afgeleiden), # naam functie afgeleiden\n",
    "    parameternaam=ToggleButtons(options=['beta', 'gamma']),\n",
    "    log_perturbatie = IntSlider(value=-4, min=-15, max=-1, step=1, continuous_update=False),\n",
    "    soort=ToggleButtons(options=[\n",
    "            'absolute sensitiviteit', 'relatieve sensitiviteit parameter',\n",
    "            'relatieve sensitiviteit variabele','relatieve totale sensitiviteit']),\n",
    "    # vanaf hier: functie specifieke parameters\n",
    "    beta=fixed(0.0001), gamma=fixed(0.1))"
   ]
  },
  {
   "cell_type": "code",
   "execution_count": null,
   "metadata": {},
   "outputs": [],
   "source": []
  },
  {
   "cell_type": "code",
   "execution_count": null,
   "metadata": {},
   "outputs": [],
   "source": []
  }
 ],
 "metadata": {
  "@webio": {
   "lastCommId": null,
   "lastKernelId": null
  },
  "hide_input": false,
  "kernelspec": {
   "display_name": "Python 3",
   "language": "python",
   "name": "python3"
  },
  "language_info": {
   "codemirror_mode": {
    "name": "ipython",
    "version": 3
   },
   "file_extension": ".py",
   "mimetype": "text/x-python",
   "name": "python",
   "nbconvert_exporter": "python",
   "pygments_lexer": "ipython3",
   "version": "3.7.6"
  },
  "toc": {
   "base_numbering": 1,
   "nav_menu": {},
   "number_sections": true,
   "sideBar": true,
   "skip_h1_title": false,
   "title_cell": "Table of Contents",
   "title_sidebar": "Contents",
   "toc_cell": false,
   "toc_position": {},
   "toc_section_display": true,
   "toc_window_display": false
  },
  "varInspector": {
   "cols": {
    "lenName": 16,
    "lenType": 16,
    "lenVar": 40
   },
   "kernels_config": {
    "python": {
     "delete_cmd_postfix": "",
     "delete_cmd_prefix": "del ",
     "library": "var_list.py",
     "varRefreshCmd": "print(var_dic_list())"
    },
    "r": {
     "delete_cmd_postfix": ") ",
     "delete_cmd_prefix": "rm(",
     "library": "var_list.r",
     "varRefreshCmd": "cat(var_dic_list()) "
    }
   },
   "types_to_exclude": [
    "module",
    "function",
    "builtin_function_or_method",
    "instance",
    "_Feature"
   ],
   "window_display": true
  }
 },
 "nbformat": 4,
 "nbformat_minor": 4
}
